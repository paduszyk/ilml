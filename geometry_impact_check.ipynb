{
 "cells": [
  {
   "cell_type": "code",
   "execution_count": null,
   "id": "f5c82a45",
   "metadata": {},
   "outputs": [],
   "source": [
    "import pandas as pd\n",
    "from rdkit import Chem\n",
    "from rdkit.Chem import AllChem\n",
    "from rdkit.Chem.Descriptors import CalcMolDescriptors"
   ]
  },
  {
   "cell_type": "code",
   "execution_count": null,
   "id": "3d0488cc",
   "metadata": {},
   "outputs": [],
   "source": [
    "smiles = \"CCCCCCCCC=CCCCCCCCCn1cc[n+](C)c1\""
   ]
  },
  {
   "cell_type": "code",
   "execution_count": null,
   "id": "27c84fab",
   "metadata": {},
   "outputs": [],
   "source": [
    "mol_without_H = Chem.MolFromSmiles(smiles)\n",
    "\n",
    "mol_without_H"
   ]
  },
  {
   "cell_type": "code",
   "execution_count": null,
   "id": "1aaa3e62",
   "metadata": {},
   "outputs": [],
   "source": [
    "mol_with_H = Chem.AddHs(mol_without_H)\n",
    "\n",
    "mol_with_H"
   ]
  },
  {
   "cell_type": "code",
   "execution_count": null,
   "id": "a7cd3344",
   "metadata": {},
   "outputs": [],
   "source": [
    "mol_3d = Chem.AddHs(Chem.MolFromSmiles(smiles))\n",
    "AllChem.EmbedMolecule(mol_3d)\n",
    "\n",
    "mol_3d"
   ]
  },
  {
   "cell_type": "code",
   "execution_count": null,
   "id": "8dabe1f8",
   "metadata": {},
   "outputs": [],
   "source": [
    "descriptors = {\n",
    "    \"mol_without_H\": CalcMolDescriptors(mol_without_H),\n",
    "    \"mol_with_H\": CalcMolDescriptors(mol_with_H),\n",
    "    \"mol_3d\": CalcMolDescriptors(mol_3d),\n",
    "}\n",
    "\n",
    "descriptors_df = pd.DataFrame(descriptors)\n",
    "descriptors_df"
   ]
  }
 ],
 "metadata": {
  "kernelspec": {
   "display_name": ".venv",
   "language": "python",
   "name": "python3"
  },
  "language_info": {
   "codemirror_mode": {
    "name": "ipython",
    "version": 3
   },
   "file_extension": ".py",
   "mimetype": "text/x-python",
   "name": "python",
   "nbconvert_exporter": "python",
   "pygments_lexer": "ipython3",
   "version": "3.13.2"
  }
 },
 "nbformat": 4,
 "nbformat_minor": 5
}
